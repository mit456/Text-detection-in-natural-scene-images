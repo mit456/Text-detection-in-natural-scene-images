{
 "cells": [
  {
   "cell_type": "code",
   "execution_count": 5,
   "metadata": {},
   "outputs": [],
   "source": [
    "import cv2\n",
    "import numpy as np\n",
    "\n",
    "%matplotlib inline\n",
    "import numpy as np\n",
    "import matplotlib.pyplot as plt\n",
    "from PIL import Image\n",
    "import os\n",
    "import scipy\n",
    "import math\n",
    "import keras\n",
    "from keras.models import load_model\n",
    "from sklearn.externals import joblib\n",
    "\n",
    "import PIL\n",
    "import billiard\n",
    "from billiard import Pool\n",
    "from functools import partial\n",
    "import pytesseract"
   ]
  },
  {
   "cell_type": "code",
   "execution_count": 6,
   "metadata": {},
   "outputs": [],
   "source": [
    "def main():\n",
    "    location = \"../Text-detection-in-natural-scene-images-dataset/text or no text dataset/test images/\"\n",
    "    test_images = ['2750.jpg','74375.jpg','25541.jpg']\n",
    "    \n",
    "    mp_pool = billiard.Pool(processes=3)\n",
    "    preprocess_mp_partial = partial(run_preprocessing, location=location)\n",
    "    result_data = mp_pool.map(preprocess_mp_partial, test_images)\n",
    "    \n",
    "    #return result_data\n",
    "\n",
    "    print(result_data)"
   ]
  },
  {
   "cell_type": "code",
   "execution_count": 7,
   "metadata": {},
   "outputs": [],
   "source": [
    "def run_preprocessing(frame_location, location=\".\"):\n",
    "    single_frame_data_dict = {\n",
    "        \"text\": \"\",\n",
    "        \"timestamp_ms\": \"0\"\n",
    "    }\n",
    "    \n",
    "    frame_abs_path = os.path.join(os.path.abspath(location), frame_location)\n",
    "    frame_no = frame_abs_path.split(\"/\")[-1].split(\".\")[0]\n",
    "    img = cv2.imread(frame_abs_path, 0)\n",
    "    \n",
    "    thresold_frames = os.path.join(location, 'thresold_frames')\n",
    "    binarized_frames = os.path.join(location, 'binarized_frames')\n",
    "    \n",
    "    if not os.path.exists(thresold_frames):\n",
    "        os.makedirs(thresold_frames)\n",
    "    if not os.path.exists(binarized_frames):\n",
    "        os.makedirs(binarized_frames)\n",
    "        \n",
    "    \n",
    "    #otsu_1 = cv2.threshold(img,0,255,cv2.THRESH_BINARY+cv2.THRESH_OTSU)[1]\n",
    "    th2 = cv2.adaptiveThreshold(img, 255, cv2.ADAPTIVE_THRESH_GAUSSIAN_C, cv2.THRESH_BINARY,25,2)\n",
    "\n",
    "    # connected components\n",
    "    cc  = cv2.connectedComponents(np.uint8(th2))[1]\n",
    "\n",
    "    # creating imgage for every single label in the connected components\n",
    "    con_img = {}\n",
    "    for label in np.unique(cc[cc>0]):\n",
    "        image = np.zeros(cc.shape)\n",
    "        indices = np.where(cc==label)\n",
    "        image[indices] = 1\n",
    "        con_img[label] = image\n",
    "\n",
    "    tot1=0\n",
    "    i=1\n",
    "    \n",
    "    loaded_scaler = joblib.load('./my_scaler_base_2.pkl')\n",
    "    model = load_model('./my_model_base_2.h5')\n",
    "    \n",
    "    for elem in con_img.keys():\n",
    "        x,y,w,h = cv2.boundingRect(np.uint8(con_img[elem]))\n",
    "        #print(\"****\", x, y, w, h)\n",
    "        imng = img[y:y+h,x:x+w]\n",
    "        imng =  scipy.misc.imresize(imng,(32,32)).ravel().reshape(1,1024)\n",
    "        imng = loaded_scaler.transform(imng)\n",
    "        imng = imng.reshape((1,32,32,1))\n",
    "        if np.around(model.predict(imng)) == 1.0:\n",
    "            tot1+=con_img[elem]\n",
    "            cv2.rectangle(img,(x,y),(x+w,y+h),(0,255,0),2)\n",
    "            i+=1\n",
    "\n",
    "\n",
    "    thresold_frame = Image.fromarray((cc * 255).astype(np.uint8))\n",
    "    thresold_frame.save(os.path.join(thresold_frames, 'thresold_' + str(frame_no) + \".jpg\"))\n",
    "    \n",
    "    binary_frame = Image.fromarray((tot1 * 255).astype(np.uint8))\n",
    "    binary_frame.save(os.path.join(binarized_frames, 'binary_' + str(frame_no) + \".jpg\"))\n",
    "    #im.save(\"../Text-detection-in-natural-scene-images-dataset/text or no text dataset/test images/b.jpg\")\n",
    "    \n",
    "    \n",
    "    #final_image = cv2.imread(\"../Text-detection-in-natural-scene-images-dataset/text or no text dataset/test images/b.jpg\", 0)\n",
    "    final_image = cv2.imread(os.path.join(binarized_frames, 'binary_' + str(frame_no) + \".jpg\"), 0)\n",
    "    final_image = cv2.bitwise_not(final_image)\n",
    "    text = pytesseract.image_to_string(final_image)\n",
    "    \n",
    "    single_frame_data_dict[\"text\"] = text\n",
    "    single_frame_data_dict[\"timestamp_ms\"] = str(frame_no)\n",
    "\n",
    "#     plt.figure(figsize=[20,10])\n",
    "#     plt.subplot(1,3,1)\n",
    "#     plt.imshow(img)\n",
    "\n",
    "#     plt.subplot(1,3,2)\n",
    "#     plt.imshow(cc)\n",
    "\n",
    "#     plt.subplot(1,3,3)\n",
    "#     plt.imshow(tot1, 'gray')\n",
    "    \n",
    "    return single_frame_data_dict"
   ]
  },
  {
   "cell_type": "code",
   "execution_count": 8,
   "metadata": {},
   "outputs": [
    {
     "name": "stderr",
     "output_type": "stream",
     "text": [
      "/home/void/Projects/OCR/Text-detection-in-natural-scene-images/lib/python3.6/site-packages/ipykernel_launcher.py:44: DeprecationWarning: `imresize` is deprecated!\n",
      "`imresize` is deprecated in SciPy 1.0.0, and will be removed in 1.2.0.\n",
      "Use ``skimage.transform.resize`` instead.\n",
      "/home/void/Projects/OCR/Text-detection-in-natural-scene-images/lib/python3.6/site-packages/sklearn/utils/validation.py:475: DataConversionWarning: Data with input dtype uint8 was converted to float64 by StandardScaler.\n",
      "  warnings.warn(msg, DataConversionWarning)\n",
      "/home/void/Projects/OCR/Text-detection-in-natural-scene-images/lib/python3.6/site-packages/ipykernel_launcher.py:44: DeprecationWarning: `imresize` is deprecated!\n",
      "`imresize` is deprecated in SciPy 1.0.0, and will be removed in 1.2.0.\n",
      "Use ``skimage.transform.resize`` instead.\n",
      "/home/void/Projects/OCR/Text-detection-in-natural-scene-images/lib/python3.6/site-packages/sklearn/utils/validation.py:475: DataConversionWarning: Data with input dtype uint8 was converted to float64 by StandardScaler.\n",
      "  warnings.warn(msg, DataConversionWarning)\n",
      "/home/void/Projects/OCR/Text-detection-in-natural-scene-images/lib/python3.6/site-packages/ipykernel_launcher.py:44: DeprecationWarning: `imresize` is deprecated!\n",
      "`imresize` is deprecated in SciPy 1.0.0, and will be removed in 1.2.0.\n",
      "Use ``skimage.transform.resize`` instead.\n",
      "/home/void/Projects/OCR/Text-detection-in-natural-scene-images/lib/python3.6/site-packages/sklearn/utils/validation.py:475: DataConversionWarning: Data with input dtype uint8 was converted to float64 by StandardScaler.\n",
      "  warnings.warn(msg, DataConversionWarning)\n"
     ]
    },
    {
     "name": "stdout",
     "output_type": "stream",
     "text": [
      "[{'text': 'Should we men\\nhelp our wives\\ndo housework', 'timestamp_ms': '2750'}, {'text': 'Then one day\\neveryt ng changed', 'timestamp_ms': '74375'}, {'text': 'He looked at me\\n\\nas if | had told him\\n\\n| was going to build\\n\\na space rocket\\nhor', 'timestamp_ms': '25541'}]\n"
     ]
    }
   ],
   "source": [
    "if __name__ == \"__main__\":\n",
    "    main()"
   ]
  },
  {
   "cell_type": "code",
   "execution_count": null,
   "metadata": {},
   "outputs": [],
   "source": []
  },
  {
   "cell_type": "code",
   "execution_count": null,
   "metadata": {},
   "outputs": [],
   "source": []
  }
 ],
 "metadata": {
  "kernelspec": {
   "display_name": "Python 3",
   "language": "python",
   "name": "python3"
  },
  "language_info": {
   "codemirror_mode": {
    "name": "ipython",
    "version": 3
   },
   "file_extension": ".py",
   "mimetype": "text/x-python",
   "name": "python",
   "nbconvert_exporter": "python",
   "pygments_lexer": "ipython3",
   "version": "3.6.5"
  }
 },
 "nbformat": 4,
 "nbformat_minor": 2
}
